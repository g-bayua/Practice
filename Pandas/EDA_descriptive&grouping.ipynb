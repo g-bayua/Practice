{
 "cells": [
  {
   "cell_type": "code",
   "execution_count": 43,
   "id": "a2229585-c135-4911-81ed-de90b0db606f",
   "metadata": {},
   "outputs": [],
   "source": [
    "import pandas as pd\n",
    "import numpy as np"
   ]
  },
  {
   "cell_type": "code",
   "execution_count": 44,
   "id": "f517d761-c869-41cb-97b8-7ace04bf71a5",
   "metadata": {},
   "outputs": [
    {
     "data": {
      "text/html": [
       "<div>\n",
       "<style scoped>\n",
       "    .dataframe tbody tr th:only-of-type {\n",
       "        vertical-align: middle;\n",
       "    }\n",
       "\n",
       "    .dataframe tbody tr th {\n",
       "        vertical-align: top;\n",
       "    }\n",
       "\n",
       "    .dataframe thead th {\n",
       "        text-align: right;\n",
       "    }\n",
       "</style>\n",
       "<table border=\"1\" class=\"dataframe\">\n",
       "  <thead>\n",
       "    <tr style=\"text-align: right;\">\n",
       "      <th></th>\n",
       "      <th>order_id</th>\n",
       "      <th>product_code</th>\n",
       "      <th>product_name</th>\n",
       "      <th>quantity</th>\n",
       "      <th>order_date</th>\n",
       "      <th>price</th>\n",
       "      <th>customer_id</th>\n",
       "    </tr>\n",
       "  </thead>\n",
       "  <tbody>\n",
       "    <tr>\n",
       "      <th>0</th>\n",
       "      <td>493410</td>\n",
       "      <td>TEST001</td>\n",
       "      <td>This is a test product.</td>\n",
       "      <td>5</td>\n",
       "      <td>2010-01-04 09:24:00</td>\n",
       "      <td>4.50</td>\n",
       "      <td>12346.0</td>\n",
       "    </tr>\n",
       "    <tr>\n",
       "      <th>1</th>\n",
       "      <td>C493411</td>\n",
       "      <td>21539</td>\n",
       "      <td>RETRO SPOTS BUTTER DISH</td>\n",
       "      <td>-1</td>\n",
       "      <td>2010-01-04 09:43:00</td>\n",
       "      <td>4.25</td>\n",
       "      <td>14590.0</td>\n",
       "    </tr>\n",
       "    <tr>\n",
       "      <th>2</th>\n",
       "      <td>493412</td>\n",
       "      <td>TEST001</td>\n",
       "      <td>This is a test product.</td>\n",
       "      <td>5</td>\n",
       "      <td>2010-01-04 09:53:00</td>\n",
       "      <td>4.50</td>\n",
       "      <td>12346.0</td>\n",
       "    </tr>\n",
       "    <tr>\n",
       "      <th>3</th>\n",
       "      <td>493413</td>\n",
       "      <td>21724</td>\n",
       "      <td>PANDA AND BUNNIES STICKER SHEET</td>\n",
       "      <td>1</td>\n",
       "      <td>2010-01-04 09:54:00</td>\n",
       "      <td>0.85</td>\n",
       "      <td>NaN</td>\n",
       "    </tr>\n",
       "    <tr>\n",
       "      <th>4</th>\n",
       "      <td>493413</td>\n",
       "      <td>84578</td>\n",
       "      <td>ELEPHANT TOY WITH BLUE T-SHIRT</td>\n",
       "      <td>1</td>\n",
       "      <td>2010-01-04 09:54:00</td>\n",
       "      <td>3.75</td>\n",
       "      <td>NaN</td>\n",
       "    </tr>\n",
       "    <tr>\n",
       "      <th>...</th>\n",
       "      <td>...</td>\n",
       "      <td>...</td>\n",
       "      <td>...</td>\n",
       "      <td>...</td>\n",
       "      <td>...</td>\n",
       "      <td>...</td>\n",
       "      <td>...</td>\n",
       "    </tr>\n",
       "    <tr>\n",
       "      <th>461768</th>\n",
       "      <td>539991</td>\n",
       "      <td>21618</td>\n",
       "      <td>4 WILDFLOWER BOTANICAL CANDLES</td>\n",
       "      <td>1</td>\n",
       "      <td>2010-12-23 16:49:00</td>\n",
       "      <td>1.25</td>\n",
       "      <td>NaN</td>\n",
       "    </tr>\n",
       "    <tr>\n",
       "      <th>461769</th>\n",
       "      <td>539991</td>\n",
       "      <td>72741</td>\n",
       "      <td>GRAND CHOCOLATECANDLE</td>\n",
       "      <td>4</td>\n",
       "      <td>2010-12-23 16:49:00</td>\n",
       "      <td>1.45</td>\n",
       "      <td>NaN</td>\n",
       "    </tr>\n",
       "    <tr>\n",
       "      <th>461770</th>\n",
       "      <td>539992</td>\n",
       "      <td>21470</td>\n",
       "      <td>FLOWER VINE RAFFIA FOOD COVER</td>\n",
       "      <td>1</td>\n",
       "      <td>2010-12-23 17:41:00</td>\n",
       "      <td>3.75</td>\n",
       "      <td>NaN</td>\n",
       "    </tr>\n",
       "    <tr>\n",
       "      <th>461771</th>\n",
       "      <td>539992</td>\n",
       "      <td>22258</td>\n",
       "      <td>FELT FARM ANIMAL RABBIT</td>\n",
       "      <td>1</td>\n",
       "      <td>2010-12-23 17:41:00</td>\n",
       "      <td>1.25</td>\n",
       "      <td>NaN</td>\n",
       "    </tr>\n",
       "    <tr>\n",
       "      <th>461772</th>\n",
       "      <td>539992</td>\n",
       "      <td>21155</td>\n",
       "      <td>RED RETROSPOT PEG BAG</td>\n",
       "      <td>1</td>\n",
       "      <td>2010-12-23 17:41:00</td>\n",
       "      <td>2.10</td>\n",
       "      <td>NaN</td>\n",
       "    </tr>\n",
       "  </tbody>\n",
       "</table>\n",
       "<p>461773 rows × 7 columns</p>\n",
       "</div>"
      ],
      "text/plain": [
       "       order_id product_code                     product_name  quantity  \\\n",
       "0        493410      TEST001          This is a test product.         5   \n",
       "1       C493411        21539          RETRO SPOTS BUTTER DISH        -1   \n",
       "2        493412      TEST001          This is a test product.         5   \n",
       "3        493413        21724  PANDA AND BUNNIES STICKER SHEET         1   \n",
       "4        493413        84578   ELEPHANT TOY WITH BLUE T-SHIRT         1   \n",
       "...         ...          ...                              ...       ...   \n",
       "461768   539991        21618   4 WILDFLOWER BOTANICAL CANDLES         1   \n",
       "461769   539991        72741            GRAND CHOCOLATECANDLE         4   \n",
       "461770   539992        21470    FLOWER VINE RAFFIA FOOD COVER         1   \n",
       "461771   539992        22258          FELT FARM ANIMAL RABBIT         1   \n",
       "461772   539992        21155            RED RETROSPOT PEG BAG         1   \n",
       "\n",
       "                 order_date  price  customer_id  \n",
       "0       2010-01-04 09:24:00   4.50      12346.0  \n",
       "1       2010-01-04 09:43:00   4.25      14590.0  \n",
       "2       2010-01-04 09:53:00   4.50      12346.0  \n",
       "3       2010-01-04 09:54:00   0.85          NaN  \n",
       "4       2010-01-04 09:54:00   3.75          NaN  \n",
       "...                     ...    ...          ...  \n",
       "461768  2010-12-23 16:49:00   1.25          NaN  \n",
       "461769  2010-12-23 16:49:00   1.45          NaN  \n",
       "461770  2010-12-23 17:41:00   3.75          NaN  \n",
       "461771  2010-12-23 17:41:00   1.25          NaN  \n",
       "461772  2010-12-23 17:41:00   2.10          NaN  \n",
       "\n",
       "[461773 rows x 7 columns]"
      ]
     },
     "execution_count": 44,
     "metadata": {},
     "output_type": "execute_result"
    }
   ],
   "source": [
    "df = pd.read_csv('Salinan_Online_Retail_Data.csv', header=0)\n",
    "df"
   ]
  },
  {
   "cell_type": "markdown",
   "id": "c46b6226-752b-4566-afb4-c4b7f4de6b51",
   "metadata": {},
   "source": [
    "**data cleansing**"
   ]
  },
  {
   "cell_type": "code",
   "execution_count": 45,
   "id": "247f6294-572b-4954-bb6b-305ccdbf3ccd",
   "metadata": {},
   "outputs": [
    {
     "data": {
      "text/html": [
       "<div>\n",
       "<style scoped>\n",
       "    .dataframe tbody tr th:only-of-type {\n",
       "        vertical-align: middle;\n",
       "    }\n",
       "\n",
       "    .dataframe tbody tr th {\n",
       "        vertical-align: top;\n",
       "    }\n",
       "\n",
       "    .dataframe thead th {\n",
       "        text-align: right;\n",
       "    }\n",
       "</style>\n",
       "<table border=\"1\" class=\"dataframe\">\n",
       "  <thead>\n",
       "    <tr style=\"text-align: right;\">\n",
       "      <th></th>\n",
       "      <th>order_id</th>\n",
       "      <th>product_code</th>\n",
       "      <th>product_name</th>\n",
       "      <th>quantity</th>\n",
       "      <th>order_date</th>\n",
       "      <th>price</th>\n",
       "      <th>customer_id</th>\n",
       "      <th>order_status</th>\n",
       "      <th>amount</th>\n",
       "    </tr>\n",
       "  </thead>\n",
       "  <tbody>\n",
       "    <tr>\n",
       "      <th>0</th>\n",
       "      <td>C493411</td>\n",
       "      <td>21539</td>\n",
       "      <td>red retrospot butter dish</td>\n",
       "      <td>1</td>\n",
       "      <td>2010-01-04 09:43:00</td>\n",
       "      <td>4.25</td>\n",
       "      <td>14590.0</td>\n",
       "      <td>cancelled</td>\n",
       "      <td>4.25</td>\n",
       "    </tr>\n",
       "    <tr>\n",
       "      <th>1</th>\n",
       "      <td>493413</td>\n",
       "      <td>21724</td>\n",
       "      <td>panda and bunnies sticker sheet</td>\n",
       "      <td>1</td>\n",
       "      <td>2010-01-04 09:54:00</td>\n",
       "      <td>0.85</td>\n",
       "      <td>nan</td>\n",
       "      <td>delivered</td>\n",
       "      <td>0.85</td>\n",
       "    </tr>\n",
       "    <tr>\n",
       "      <th>2</th>\n",
       "      <td>493413</td>\n",
       "      <td>84578</td>\n",
       "      <td>elephant toy with blue t-shirt</td>\n",
       "      <td>1</td>\n",
       "      <td>2010-01-04 09:54:00</td>\n",
       "      <td>3.75</td>\n",
       "      <td>nan</td>\n",
       "      <td>delivered</td>\n",
       "      <td>3.75</td>\n",
       "    </tr>\n",
       "    <tr>\n",
       "      <th>3</th>\n",
       "      <td>493413</td>\n",
       "      <td>21723</td>\n",
       "      <td>alphabet hearts sticker sheet</td>\n",
       "      <td>1</td>\n",
       "      <td>2010-01-04 09:54:00</td>\n",
       "      <td>0.85</td>\n",
       "      <td>nan</td>\n",
       "      <td>delivered</td>\n",
       "      <td>0.85</td>\n",
       "    </tr>\n",
       "    <tr>\n",
       "      <th>4</th>\n",
       "      <td>493414</td>\n",
       "      <td>21844</td>\n",
       "      <td>red retrospot mug</td>\n",
       "      <td>36</td>\n",
       "      <td>2010-01-04 10:28:00</td>\n",
       "      <td>2.55</td>\n",
       "      <td>14590.0</td>\n",
       "      <td>delivered</td>\n",
       "      <td>91.80</td>\n",
       "    </tr>\n",
       "    <tr>\n",
       "      <th>...</th>\n",
       "      <td>...</td>\n",
       "      <td>...</td>\n",
       "      <td>...</td>\n",
       "      <td>...</td>\n",
       "      <td>...</td>\n",
       "      <td>...</td>\n",
       "      <td>...</td>\n",
       "      <td>...</td>\n",
       "      <td>...</td>\n",
       "    </tr>\n",
       "    <tr>\n",
       "      <th>458241</th>\n",
       "      <td>539991</td>\n",
       "      <td>21618</td>\n",
       "      <td>4 wildflower botanical candles</td>\n",
       "      <td>1</td>\n",
       "      <td>2010-12-23 16:49:00</td>\n",
       "      <td>1.25</td>\n",
       "      <td>nan</td>\n",
       "      <td>delivered</td>\n",
       "      <td>1.25</td>\n",
       "    </tr>\n",
       "    <tr>\n",
       "      <th>458242</th>\n",
       "      <td>539991</td>\n",
       "      <td>72741</td>\n",
       "      <td>grand chocolatecandle</td>\n",
       "      <td>4</td>\n",
       "      <td>2010-12-23 16:49:00</td>\n",
       "      <td>1.45</td>\n",
       "      <td>nan</td>\n",
       "      <td>delivered</td>\n",
       "      <td>5.80</td>\n",
       "    </tr>\n",
       "    <tr>\n",
       "      <th>458243</th>\n",
       "      <td>539992</td>\n",
       "      <td>21470</td>\n",
       "      <td>flower vine raffia food cover</td>\n",
       "      <td>1</td>\n",
       "      <td>2010-12-23 17:41:00</td>\n",
       "      <td>3.75</td>\n",
       "      <td>nan</td>\n",
       "      <td>delivered</td>\n",
       "      <td>3.75</td>\n",
       "    </tr>\n",
       "    <tr>\n",
       "      <th>458244</th>\n",
       "      <td>539992</td>\n",
       "      <td>22258</td>\n",
       "      <td>felt farm animal rabbit</td>\n",
       "      <td>1</td>\n",
       "      <td>2010-12-23 17:41:00</td>\n",
       "      <td>1.25</td>\n",
       "      <td>nan</td>\n",
       "      <td>delivered</td>\n",
       "      <td>1.25</td>\n",
       "    </tr>\n",
       "    <tr>\n",
       "      <th>458245</th>\n",
       "      <td>539992</td>\n",
       "      <td>21155</td>\n",
       "      <td>red spotty peg bag</td>\n",
       "      <td>1</td>\n",
       "      <td>2010-12-23 17:41:00</td>\n",
       "      <td>2.10</td>\n",
       "      <td>nan</td>\n",
       "      <td>delivered</td>\n",
       "      <td>2.10</td>\n",
       "    </tr>\n",
       "  </tbody>\n",
       "</table>\n",
       "<p>458246 rows × 9 columns</p>\n",
       "</div>"
      ],
      "text/plain": [
       "       order_id product_code                     product_name  quantity  \\\n",
       "0       C493411        21539        red retrospot butter dish         1   \n",
       "1        493413        21724  panda and bunnies sticker sheet         1   \n",
       "2        493413        84578   elephant toy with blue t-shirt         1   \n",
       "3        493413        21723    alphabet hearts sticker sheet         1   \n",
       "4        493414        21844                red retrospot mug        36   \n",
       "...         ...          ...                              ...       ...   \n",
       "458241   539991        21618   4 wildflower botanical candles         1   \n",
       "458242   539991        72741            grand chocolatecandle         4   \n",
       "458243   539992        21470    flower vine raffia food cover         1   \n",
       "458244   539992        22258          felt farm animal rabbit         1   \n",
       "458245   539992        21155               red spotty peg bag         1   \n",
       "\n",
       "                 order_date  price customer_id order_status  amount  \n",
       "0       2010-01-04 09:43:00   4.25     14590.0    cancelled    4.25  \n",
       "1       2010-01-04 09:54:00   0.85         nan    delivered    0.85  \n",
       "2       2010-01-04 09:54:00   3.75         nan    delivered    3.75  \n",
       "3       2010-01-04 09:54:00   0.85         nan    delivered    0.85  \n",
       "4       2010-01-04 10:28:00   2.55     14590.0    delivered   91.80  \n",
       "...                     ...    ...         ...          ...     ...  \n",
       "458241  2010-12-23 16:49:00   1.25         nan    delivered    1.25  \n",
       "458242  2010-12-23 16:49:00   1.45         nan    delivered    5.80  \n",
       "458243  2010-12-23 17:41:00   3.75         nan    delivered    3.75  \n",
       "458244  2010-12-23 17:41:00   1.25         nan    delivered    1.25  \n",
       "458245  2010-12-23 17:41:00   2.10         nan    delivered    2.10  \n",
       "\n",
       "[458246 rows x 9 columns]"
      ]
     },
     "execution_count": 45,
     "metadata": {},
     "output_type": "execute_result"
    }
   ],
   "source": [
    "df_clean = df.copy()\n",
    "# menghapus semua baris tanpa product_name\n",
    "df_clean = df_clean[~df_clean['product_name'].isna()]\n",
    "# membuat semua product_name berhuruf kecil\n",
    "df_clean['product_name'] = df_clean['product_name'].str.lower()\n",
    "# menghapus semua baris dengan product_code atau product_name test\n",
    "df_clean = df_clean[(~df_clean['product_code'].str.lower().str.contains('test')) |\n",
    "                    (~df_clean['product_name'].str.contains('test '))]\n",
    "# membuat kolom order_status dengan nilai 'cancelled' jika order_id diawali dengan huruf 'c' dan 'delivered' jika order_id tanpa awalan huruf 'c'\n",
    "df_clean['order_status'] = np.where(df_clean['order_id'].str[:1]=='C', 'cancelled', 'delivered')\n",
    "# mengubah nilai quantity yang negatif menjadi positif karena nilai negatif tersebut hanya menandakan order tersebut cancelled\n",
    "df_clean['quantity'] = df_clean['quantity'].abs()\n",
    "# menghapus baris dengan price bernilai negatif\n",
    "df_clean = df_clean[df_clean['price']>0]\n",
    "# membuat nilai amount, yaitu perkalian antara quantity dan price\n",
    "df_clean['amount'] = df_clean['quantity'] * df_clean['price']\n",
    "# mengganti product_name dari product_code yang memiliki beberapa product_name dengan salah satu product_name-nya yang paling sering muncul\n",
    "most_freq_product_name = df_clean.groupby(['product_code','product_name'], as_index=False).agg(order_cnt=('order_id','nunique')).sort_values(['product_code','order_cnt'], ascending=[True,False])\n",
    "most_freq_product_name['rank'] = most_freq_product_name.groupby('product_code')['order_cnt'].rank(method='first', ascending=False)\n",
    "most_freq_product_name = most_freq_product_name[most_freq_product_name['rank']==1].drop(columns=['order_cnt','rank'])\n",
    "df_clean = df_clean.merge(most_freq_product_name.rename(columns={'product_name':'most_freq_product_name'}), how='left', on='product_code')\n",
    "df_clean['product_name'] = df_clean['most_freq_product_name']\n",
    "df_clean = df_clean.drop(columns='most_freq_product_name')\n",
    "# mengkonversi customer_id menjadi string\n",
    "df_clean['customer_id'] = df_clean['customer_id'].astype(str)\n",
    "df_clean = df_clean.reset_index(drop=True)\n",
    "df_clean"
   ]
  },
  {
   "cell_type": "markdown",
   "id": "7e43e1a4-cbe1-4f8e-8d88-83b86d901438",
   "metadata": {},
   "source": [
    "## hal yang sering dilakukan saat EDA "
   ]
  },
  {
   "cell_type": "markdown",
   "id": "dcd97eb7-9410-4620-a9f0-bd49d1760f3c",
   "metadata": {},
   "source": [
    "### mengetahui jumlah baris dan kolom"
   ]
  },
  {
   "cell_type": "code",
   "execution_count": 8,
   "id": "e5db1e79-8427-4412-9a16-6278dd798906",
   "metadata": {},
   "outputs": [
    {
     "data": {
      "text/plain": [
       "(458246, 9)"
      ]
     },
     "execution_count": 8,
     "metadata": {},
     "output_type": "execute_result"
    }
   ],
   "source": [
    "df_clean.shape"
   ]
  },
  {
   "cell_type": "markdown",
   "id": "bd46f75c-9f47-4a30-9680-42b12a75a8c5",
   "metadata": {},
   "source": [
    "### mengetahui tipe data disetiap kolom"
   ]
  },
  {
   "cell_type": "code",
   "execution_count": 9,
   "id": "317501e6-37cb-49f1-b261-656401b1a28f",
   "metadata": {},
   "outputs": [
    {
     "name": "stdout",
     "output_type": "stream",
     "text": [
      "<class 'pandas.core.frame.DataFrame'>\n",
      "RangeIndex: 458246 entries, 0 to 458245\n",
      "Data columns (total 9 columns):\n",
      " #   Column        Non-Null Count   Dtype  \n",
      "---  ------        --------------   -----  \n",
      " 0   order_id      458246 non-null  object \n",
      " 1   product_code  458246 non-null  object \n",
      " 2   product_name  458246 non-null  object \n",
      " 3   quantity      458246 non-null  int64  \n",
      " 4   order_date    458246 non-null  object \n",
      " 5   price         458246 non-null  float64\n",
      " 6   customer_id   458246 non-null  object \n",
      " 7   order_status  458246 non-null  object \n",
      " 8   amount        458246 non-null  float64\n",
      "dtypes: float64(2), int64(1), object(6)\n",
      "memory usage: 31.5+ MB\n"
     ]
    }
   ],
   "source": [
    "df_clean.info()"
   ]
  },
  {
   "cell_type": "markdown",
   "id": "280ee1f5-99bd-47c9-a396-c058764362f5",
   "metadata": {},
   "source": [
    "### mengetahui nilai unique dari kolom atau variabel"
   ]
  },
  {
   "cell_type": "code",
   "execution_count": 11,
   "id": "bc518927-7e5a-4c1b-a55c-3ac6436d0306",
   "metadata": {},
   "outputs": [
    {
     "data": {
      "text/plain": [
       "array(['cancelled', 'delivered'], dtype=object)"
      ]
     },
     "execution_count": 11,
     "metadata": {},
     "output_type": "execute_result"
    }
   ],
   "source": [
    "# tanpa mengetahui frekuensi dari masing-masing nilai unik\n",
    "df_clean['order_status'].unique()"
   ]
  },
  {
   "cell_type": "code",
   "execution_count": 12,
   "id": "db042ce3-4b85-4a84-8393-ea9c9a833e96",
   "metadata": {},
   "outputs": [
    {
     "data": {
      "text/plain": [
       "order_status\n",
       "delivered    449996\n",
       "cancelled      8250\n",
       "Name: count, dtype: int64"
      ]
     },
     "execution_count": 12,
     "metadata": {},
     "output_type": "execute_result"
    }
   ],
   "source": [
    "# dengan informasi frekuensi dari masing-masing nilai unik\n",
    "df_clean['order_status'].value_counts()"
   ]
  },
  {
   "cell_type": "markdown",
   "id": "9e31f316-ee14-4bf6-830b-a6d7c9f484ea",
   "metadata": {},
   "source": [
    "## Menghitung descriptive statistics dari DataFrame"
   ]
  },
  {
   "cell_type": "markdown",
   "id": "37b62f5d-9542-4480-ab2e-5b03d631dc12",
   "metadata": {},
   "source": [
    "### Mengetahui statistik dari distribusi data numerik di keseluruhan kolom pada DataFrame sekaligus secara kuantitatif"
   ]
  },
  {
   "cell_type": "code",
   "execution_count": 13,
   "id": "d9211608-3923-4428-b47a-54d68209242d",
   "metadata": {},
   "outputs": [
    {
     "data": {
      "text/html": [
       "<div>\n",
       "<style scoped>\n",
       "    .dataframe tbody tr th:only-of-type {\n",
       "        vertical-align: middle;\n",
       "    }\n",
       "\n",
       "    .dataframe tbody tr th {\n",
       "        vertical-align: top;\n",
       "    }\n",
       "\n",
       "    .dataframe thead th {\n",
       "        text-align: right;\n",
       "    }\n",
       "</style>\n",
       "<table border=\"1\" class=\"dataframe\">\n",
       "  <thead>\n",
       "    <tr style=\"text-align: right;\">\n",
       "      <th></th>\n",
       "      <th>quantity</th>\n",
       "      <th>price</th>\n",
       "      <th>amount</th>\n",
       "    </tr>\n",
       "  </thead>\n",
       "  <tbody>\n",
       "    <tr>\n",
       "      <th>count</th>\n",
       "      <td>458246.000000</td>\n",
       "      <td>458246.000000</td>\n",
       "      <td>458246.000000</td>\n",
       "    </tr>\n",
       "    <tr>\n",
       "      <th>mean</th>\n",
       "      <td>10.004764</td>\n",
       "      <td>4.903037</td>\n",
       "      <td>19.512293</td>\n",
       "    </tr>\n",
       "    <tr>\n",
       "      <th>std</th>\n",
       "      <td>61.180755</td>\n",
       "      <td>99.536887</td>\n",
       "      <td>118.566258</td>\n",
       "    </tr>\n",
       "    <tr>\n",
       "      <th>min</th>\n",
       "      <td>1.000000</td>\n",
       "      <td>0.001000</td>\n",
       "      <td>0.001000</td>\n",
       "    </tr>\n",
       "    <tr>\n",
       "      <th>25%</th>\n",
       "      <td>1.000000</td>\n",
       "      <td>1.250000</td>\n",
       "      <td>3.750000</td>\n",
       "    </tr>\n",
       "    <tr>\n",
       "      <th>50%</th>\n",
       "      <td>3.000000</td>\n",
       "      <td>2.100000</td>\n",
       "      <td>9.300000</td>\n",
       "    </tr>\n",
       "    <tr>\n",
       "      <th>75%</th>\n",
       "      <td>10.000000</td>\n",
       "      <td>4.210000</td>\n",
       "      <td>17.000000</td>\n",
       "    </tr>\n",
       "    <tr>\n",
       "      <th>max</th>\n",
       "      <td>10000.000000</td>\n",
       "      <td>25111.090000</td>\n",
       "      <td>25111.090000</td>\n",
       "    </tr>\n",
       "  </tbody>\n",
       "</table>\n",
       "</div>"
      ],
      "text/plain": [
       "            quantity          price         amount\n",
       "count  458246.000000  458246.000000  458246.000000\n",
       "mean       10.004764       4.903037      19.512293\n",
       "std        61.180755      99.536887     118.566258\n",
       "min         1.000000       0.001000       0.001000\n",
       "25%         1.000000       1.250000       3.750000\n",
       "50%         3.000000       2.100000       9.300000\n",
       "75%        10.000000       4.210000      17.000000\n",
       "max     10000.000000   25111.090000   25111.090000"
      ]
     },
     "execution_count": 13,
     "metadata": {},
     "output_type": "execute_result"
    }
   ],
   "source": [
    "df_clean.describe()"
   ]
  },
  {
   "cell_type": "markdown",
   "id": "f6600ca1-9c70-4119-ac2e-a7168db1fee6",
   "metadata": {},
   "source": [
    "### mengetahui statistik tertentu secara individu"
   ]
  },
  {
   "cell_type": "code",
   "execution_count": 14,
   "id": "3095515f-5354-4db9-8eb5-49c3c454f4ce",
   "metadata": {},
   "outputs": [
    {
     "data": {
      "text/plain": [
       "458246"
      ]
     },
     "execution_count": 14,
     "metadata": {},
     "output_type": "execute_result"
    }
   ],
   "source": [
    "# frekuensi (frequency) - tak unik\n",
    "df_clean['order_id'].count()"
   ]
  },
  {
   "cell_type": "code",
   "execution_count": 15,
   "id": "209cacdb-ae02-42eb-b93b-1c3acfe26d2f",
   "metadata": {},
   "outputs": [
    {
     "data": {
      "text/plain": [
       "22244"
      ]
     },
     "execution_count": 15,
     "metadata": {},
     "output_type": "execute_result"
    }
   ],
   "source": [
    "# frekuensi (frequency) - unik\n",
    "df_clean['order_id'].nunique()"
   ]
  },
  {
   "cell_type": "code",
   "execution_count": 16,
   "id": "d144d912-7870-480e-9fc6-fb404b3b0031",
   "metadata": {},
   "outputs": [
    {
     "data": {
      "text/plain": [
       "4584643"
      ]
     },
     "execution_count": 16,
     "metadata": {},
     "output_type": "execute_result"
    }
   ],
   "source": [
    "# jumlahan (sum)\n",
    "df_clean['quantity'].sum()"
   ]
  },
  {
   "cell_type": "code",
   "execution_count": 17,
   "id": "f8a62508-9db9-4486-913f-c5542997d90b",
   "metadata": {},
   "outputs": [
    {
     "data": {
      "text/plain": [
       "166722"
      ]
     },
     "execution_count": 17,
     "metadata": {},
     "output_type": "execute_result"
    }
   ],
   "source": [
    "# jumlahan (sum) subset dari data yang mengandung value tea dalam product_name\n",
    "df_clean.loc[df_clean['product_name'].str.contains('tea'), 'quantity'].sum()"
   ]
  },
  {
   "cell_type": "code",
   "execution_count": 18,
   "id": "9f1c2874-2944-4fea-8355-92c220d583b7",
   "metadata": {},
   "outputs": [
    {
     "data": {
      "text/plain": [
       "10.004763816814549"
      ]
     },
     "execution_count": 18,
     "metadata": {},
     "output_type": "execute_result"
    }
   ],
   "source": [
    "# rata-rata (mean)\n",
    "df_clean['quantity'].mean()"
   ]
  },
  {
   "cell_type": "code",
   "execution_count": 19,
   "id": "e983ced0-0e0d-47d9-977a-c9f5379653e8",
   "metadata": {},
   "outputs": [
    {
     "data": {
      "text/plain": [
       "9.657205746061168"
      ]
     },
     "execution_count": 19,
     "metadata": {},
     "output_type": "execute_result"
    }
   ],
   "source": [
    "# rata-rata (mean) subset dari data\n",
    "df_clean.loc[df_clean['product_name'].str.contains('tea'), 'quantity'].mean()"
   ]
  },
  {
   "cell_type": "code",
   "execution_count": 20,
   "id": "a1eeb086-9da1-40dd-98c7-05884bac9719",
   "metadata": {},
   "outputs": [
    {
     "data": {
      "text/plain": [
       "3.0"
      ]
     },
     "execution_count": 20,
     "metadata": {},
     "output_type": "execute_result"
    }
   ],
   "source": [
    "# median\n",
    "df_clean['quantity'].median()"
   ]
  },
  {
   "cell_type": "code",
   "execution_count": 21,
   "id": "9146c3ba-b204-487f-a318-b8062801407c",
   "metadata": {},
   "outputs": [
    {
     "data": {
      "text/plain": [
       "3.0"
      ]
     },
     "execution_count": 21,
     "metadata": {},
     "output_type": "execute_result"
    }
   ],
   "source": [
    "# median subset dari data\n",
    "df_clean.loc[df_clean['product_name'].str.contains('tea'), 'quantity'].median()"
   ]
  },
  {
   "cell_type": "code",
   "execution_count": 22,
   "id": "b0e01c60-6baf-4ddb-8cfc-2489f1a9cf7c",
   "metadata": {},
   "outputs": [
    {
     "data": {
      "text/plain": [
       "1"
      ]
     },
     "execution_count": 22,
     "metadata": {},
     "output_type": "execute_result"
    }
   ],
   "source": [
    "# modus (mode)\n",
    "df_clean['quantity'].mode()[0]"
   ]
  },
  {
   "cell_type": "code",
   "execution_count": 23,
   "id": "258a4396-a378-4ae6-a762-427667eb74ed",
   "metadata": {},
   "outputs": [
    {
     "data": {
      "text/plain": [
       "1"
      ]
     },
     "execution_count": 23,
     "metadata": {},
     "output_type": "execute_result"
    }
   ],
   "source": [
    "# modus (mode) subset dari data\n",
    "df_clean.loc[df_clean['product_name'].str.contains('tea'), 'quantity'].mode()[0]"
   ]
  },
  {
   "cell_type": "code",
   "execution_count": 24,
   "id": "87497ab8-06da-4cad-a5c8-595686d89eff",
   "metadata": {},
   "outputs": [
    {
     "data": {
      "text/plain": [
       "9999"
      ]
     },
     "execution_count": 24,
     "metadata": {},
     "output_type": "execute_result"
    }
   ],
   "source": [
    "# jangkauan (range)\n",
    "df_clean['quantity'].max() - df_clean['quantity'].min()"
   ]
  },
  {
   "cell_type": "code",
   "execution_count": 25,
   "id": "f252fe60-c5af-482f-8675-f8fa5a54ea5c",
   "metadata": {},
   "outputs": [
    {
     "data": {
      "text/plain": [
       "4607"
      ]
     },
     "execution_count": 25,
     "metadata": {},
     "output_type": "execute_result"
    }
   ],
   "source": [
    "# jangkauan (range) subset dari data\n",
    "df_clean.loc[df_clean['product_name'].str.contains('tea'), 'quantity'].max() - df_clean.loc[df_clean['product_name'].str.contains('tea'), 'quantity'].min()"
   ]
  },
  {
   "cell_type": "code",
   "execution_count": 26,
   "id": "064d30bb-a481-44fb-a4ea-18a9f4c208b9",
   "metadata": {},
   "outputs": [
    {
     "data": {
      "text/plain": [
       "61.180755115984596"
      ]
     },
     "execution_count": 26,
     "metadata": {},
     "output_type": "execute_result"
    }
   ],
   "source": [
    "# simpangan baku (standard deviation)\n",
    "df_clean['quantity'].std()"
   ]
  },
  {
   "cell_type": "code",
   "execution_count": 27,
   "id": "40506a5c-466b-420e-9b62-bf62b457fafe",
   "metadata": {},
   "outputs": [
    {
     "data": {
      "text/plain": [
       "44.822549676317"
      ]
     },
     "execution_count": 27,
     "metadata": {},
     "output_type": "execute_result"
    }
   ],
   "source": [
    "# simpangan baku (standard deviation) subset dari data\n",
    "df_clean.loc[df_clean['product_name'].str.contains('tea'), 'quantity'].std()"
   ]
  },
  {
   "cell_type": "code",
   "execution_count": 28,
   "id": "9c36222a-e3ad-4fea-9331-36842503b6ec",
   "metadata": {},
   "outputs": [
    {
     "data": {
      "text/plain": [
       "3743.084796562075"
      ]
     },
     "execution_count": 28,
     "metadata": {},
     "output_type": "execute_result"
    }
   ],
   "source": [
    "# varians (variance)\n",
    "df_clean['quantity'].var()"
   ]
  },
  {
   "cell_type": "code",
   "execution_count": 29,
   "id": "16c30ec5-5712-42eb-9919-b926bf179b6f",
   "metadata": {},
   "outputs": [
    {
     "data": {
      "text/plain": [
       "3743.084796562075"
      ]
     },
     "execution_count": 29,
     "metadata": {},
     "output_type": "execute_result"
    }
   ],
   "source": [
    "df_clean['quantity'].std()**2"
   ]
  },
  {
   "cell_type": "code",
   "execution_count": 30,
   "id": "86067732-be7d-44c8-a6bc-da42db675055",
   "metadata": {},
   "outputs": [
    {
     "data": {
      "text/plain": [
       "2009.0609594859056"
      ]
     },
     "execution_count": 30,
     "metadata": {},
     "output_type": "execute_result"
    }
   ],
   "source": [
    "# varians (variance) subset dari data\n",
    "df_clean.loc[df_clean['product_name'].str.contains('tea'), 'quantity'].var()"
   ]
  },
  {
   "cell_type": "code",
   "execution_count": 31,
   "id": "32f83e41-a5d9-4cc3-8148-8d00d618baca",
   "metadata": {},
   "outputs": [
    {
     "data": {
      "text/plain": [
       "1.0"
      ]
     },
     "execution_count": 31,
     "metadata": {},
     "output_type": "execute_result"
    }
   ],
   "source": [
    "# kuartil bawah (lower quartile)\n",
    "df_clean['quantity'].quantile(.25)"
   ]
  },
  {
   "cell_type": "code",
   "execution_count": 32,
   "id": "e164670b-daf7-4f04-9c9f-14fb947c2a77",
   "metadata": {},
   "outputs": [
    {
     "data": {
      "text/plain": [
       "1.0"
      ]
     },
     "execution_count": 32,
     "metadata": {},
     "output_type": "execute_result"
    }
   ],
   "source": [
    "# kuartil bawah (lower quartile) subset dari data\n",
    "df_clean.loc[df_clean['product_name'].str.contains('tea'), 'quantity'].quantile(.25)"
   ]
  },
  {
   "cell_type": "code",
   "execution_count": 33,
   "id": "0eb67c85-1519-45a3-bdeb-c3d5d1c812ba",
   "metadata": {},
   "outputs": [
    {
     "data": {
      "text/plain": [
       "10.0"
      ]
     },
     "execution_count": 33,
     "metadata": {},
     "output_type": "execute_result"
    }
   ],
   "source": [
    "# kuartil atas (upper quartile)\n",
    "df_clean['quantity'].quantile(.75)"
   ]
  },
  {
   "cell_type": "code",
   "execution_count": 34,
   "id": "0c3362a7-23a9-4c25-9f24-e788a23740ba",
   "metadata": {},
   "outputs": [
    {
     "data": {
      "text/plain": [
       "8.0"
      ]
     },
     "execution_count": 34,
     "metadata": {},
     "output_type": "execute_result"
    }
   ],
   "source": [
    "# kuartil atas (upper quartile) subset dari data\n",
    "df_clean.loc[df_clean['product_name'].str.contains('tea'), 'quantity'].quantile(.75)"
   ]
  },
  {
   "cell_type": "code",
   "execution_count": 35,
   "id": "a416a6fe-3cc7-4194-8bac-e75079781f2c",
   "metadata": {},
   "outputs": [
    {
     "data": {
      "text/plain": [
       "9.0"
      ]
     },
     "execution_count": 35,
     "metadata": {},
     "output_type": "execute_result"
    }
   ],
   "source": [
    "# jangkauan interkuartil (interquartile range)\n",
    "df_clean['quantity'].quantile(.75) - df_clean['quantity'].quantile(.25)"
   ]
  },
  {
   "cell_type": "code",
   "execution_count": 36,
   "id": "fb89c8ac-75dd-4f30-ba5f-f7dee14ea470",
   "metadata": {},
   "outputs": [
    {
     "data": {
      "text/plain": [
       "7.0"
      ]
     },
     "execution_count": 36,
     "metadata": {},
     "output_type": "execute_result"
    }
   ],
   "source": [
    "# jangkauan interkuartil (interquartile range) subset dari data\n",
    "df_clean.loc[df_clean['product_name'].str.contains('tea'), 'quantity'].quantile(.75) - df_clean.loc[df_clean['product_name'].str.contains('tea'), 'quantity'].quantile(.25)"
   ]
  },
  {
   "cell_type": "code",
   "execution_count": 37,
   "id": "665e1378-f064-4ec9-a683-b91cc58d8d7b",
   "metadata": {},
   "outputs": [],
   "source": [
    "def iqr(x):\n",
    "    q1 = x.quantile(.25)\n",
    "    q3 = x.quantile(.75)\n",
    "    return q3-q1"
   ]
  },
  {
   "cell_type": "code",
   "execution_count": 38,
   "id": "25fb175d-d8b0-4f02-b9cf-d80573f2df59",
   "metadata": {},
   "outputs": [
    {
     "data": {
      "text/plain": [
       "7.0"
      ]
     },
     "execution_count": 38,
     "metadata": {},
     "output_type": "execute_result"
    }
   ],
   "source": [
    "iqr(df_clean.loc[df_clean['product_name'].str.contains('tea'), 'quantity'])"
   ]
  },
  {
   "cell_type": "markdown",
   "id": "fc923bf5-423b-46a5-82c2-358eb2800c8f",
   "metadata": {},
   "source": [
    "## Menghitung descriptive statistics dengan grouping"
   ]
  },
  {
   "cell_type": "markdown",
   "id": "ba8a8a07-7251-4c82-86c1-1c8fd2976bc6",
   "metadata": {},
   "source": [
    "### agregat 1 kolom saja"
   ]
  },
  {
   "cell_type": "code",
   "execution_count": 39,
   "id": "77326b8f-7845-4632-90f9-f94492deb959",
   "metadata": {},
   "outputs": [
    {
     "data": {
      "text/plain": [
       "product_name\n",
       "60 teatime fairy cake cases           27584\n",
       "antique silver tea glass etched       17190\n",
       "moroccan tea glass                     7218\n",
       "antique silver tea glass engraved      6941\n",
       "potting shed tea mug                   6222\n",
       "                                      ...  \n",
       "english rose tea set in gift box          5\n",
       "light topaz teal/aqua col necklace        4\n",
       "ceramic cake teapot with cherry           3\n",
       "dotcomgiftshop tea towel                  2\n",
       "teatime round cake tins                   1\n",
       "Name: quantity, Length: 87, dtype: int64"
      ]
     },
     "execution_count": 39,
     "metadata": {},
     "output_type": "execute_result"
    }
   ],
   "source": [
    "# dengan 1 kolom sebagai grouping\n",
    "df_clean.loc[df_clean['product_name'].str.contains('tea')].groupby('product_name')['quantity'].sum().sort_values(ascending=False)"
   ]
  },
  {
   "cell_type": "code",
   "execution_count": 40,
   "id": "33535b0f-06e4-4ac2-a520-4ed5c5f8dc05",
   "metadata": {},
   "outputs": [
    {
     "data": {
      "text/html": [
       "<div>\n",
       "<style scoped>\n",
       "    .dataframe tbody tr th:only-of-type {\n",
       "        vertical-align: middle;\n",
       "    }\n",
       "\n",
       "    .dataframe tbody tr th {\n",
       "        vertical-align: top;\n",
       "    }\n",
       "\n",
       "    .dataframe thead th {\n",
       "        text-align: right;\n",
       "    }\n",
       "</style>\n",
       "<table border=\"1\" class=\"dataframe\">\n",
       "  <thead>\n",
       "    <tr style=\"text-align: right;\">\n",
       "      <th></th>\n",
       "      <th>quantity</th>\n",
       "    </tr>\n",
       "    <tr>\n",
       "      <th>product_name</th>\n",
       "      <th></th>\n",
       "    </tr>\n",
       "  </thead>\n",
       "  <tbody>\n",
       "    <tr>\n",
       "      <th>60 teatime fairy cake cases</th>\n",
       "      <td>27584</td>\n",
       "    </tr>\n",
       "    <tr>\n",
       "      <th>antique silver tea glass etched</th>\n",
       "      <td>17190</td>\n",
       "    </tr>\n",
       "    <tr>\n",
       "      <th>moroccan tea glass</th>\n",
       "      <td>7218</td>\n",
       "    </tr>\n",
       "    <tr>\n",
       "      <th>antique silver tea glass engraved</th>\n",
       "      <td>6941</td>\n",
       "    </tr>\n",
       "    <tr>\n",
       "      <th>potting shed tea mug</th>\n",
       "      <td>6222</td>\n",
       "    </tr>\n",
       "    <tr>\n",
       "      <th>...</th>\n",
       "      <td>...</td>\n",
       "    </tr>\n",
       "    <tr>\n",
       "      <th>english rose tea set in gift box</th>\n",
       "      <td>5</td>\n",
       "    </tr>\n",
       "    <tr>\n",
       "      <th>light topaz teal/aqua col necklace</th>\n",
       "      <td>4</td>\n",
       "    </tr>\n",
       "    <tr>\n",
       "      <th>ceramic cake teapot with cherry</th>\n",
       "      <td>3</td>\n",
       "    </tr>\n",
       "    <tr>\n",
       "      <th>dotcomgiftshop tea towel</th>\n",
       "      <td>2</td>\n",
       "    </tr>\n",
       "    <tr>\n",
       "      <th>teatime round cake tins</th>\n",
       "      <td>1</td>\n",
       "    </tr>\n",
       "  </tbody>\n",
       "</table>\n",
       "<p>87 rows × 1 columns</p>\n",
       "</div>"
      ],
      "text/plain": [
       "                                    quantity\n",
       "product_name                                \n",
       "60 teatime fairy cake cases            27584\n",
       "antique silver tea glass etched        17190\n",
       "moroccan tea glass                      7218\n",
       "antique silver tea glass engraved       6941\n",
       "potting shed tea mug                    6222\n",
       "...                                      ...\n",
       "english rose tea set in gift box           5\n",
       "light topaz teal/aqua col necklace         4\n",
       "ceramic cake teapot with cherry            3\n",
       "dotcomgiftshop tea towel                   2\n",
       "teatime round cake tins                    1\n",
       "\n",
       "[87 rows x 1 columns]"
      ]
     },
     "execution_count": 40,
     "metadata": {},
     "output_type": "execute_result"
    }
   ],
   "source": [
    "## menjadikan data frame\n",
    "data1 = pd.DataFrame(\n",
    "        df_clean.loc[df_clean['product_name'].str.contains('tea')]\n",
    "        .groupby('product_name')['quantity'].sum()\n",
    "        .sort_values(ascending=False)\n",
    ")\n",
    "data1"
   ]
  },
  {
   "cell_type": "code",
   "execution_count": 41,
   "id": "c3d0793b-8b23-4030-be38-19bd2d2a8a77",
   "metadata": {},
   "outputs": [
    {
     "data": {
      "text/html": [
       "<div>\n",
       "<style scoped>\n",
       "    .dataframe tbody tr th:only-of-type {\n",
       "        vertical-align: middle;\n",
       "    }\n",
       "\n",
       "    .dataframe tbody tr th {\n",
       "        vertical-align: top;\n",
       "    }\n",
       "\n",
       "    .dataframe thead th {\n",
       "        text-align: right;\n",
       "    }\n",
       "</style>\n",
       "<table border=\"1\" class=\"dataframe\">\n",
       "  <thead>\n",
       "    <tr style=\"text-align: right;\">\n",
       "      <th></th>\n",
       "      <th>product_name</th>\n",
       "      <th>quantity</th>\n",
       "    </tr>\n",
       "  </thead>\n",
       "  <tbody>\n",
       "    <tr>\n",
       "      <th>0</th>\n",
       "      <td>60 teatime fairy cake cases</td>\n",
       "      <td>27584</td>\n",
       "    </tr>\n",
       "    <tr>\n",
       "      <th>2</th>\n",
       "      <td>antique silver tea glass etched</td>\n",
       "      <td>17190</td>\n",
       "    </tr>\n",
       "    <tr>\n",
       "      <th>30</th>\n",
       "      <td>moroccan tea glass</td>\n",
       "      <td>7218</td>\n",
       "    </tr>\n",
       "    <tr>\n",
       "      <th>1</th>\n",
       "      <td>antique silver tea glass engraved</td>\n",
       "      <td>6941</td>\n",
       "    </tr>\n",
       "    <tr>\n",
       "      <th>35</th>\n",
       "      <td>potting shed tea mug</td>\n",
       "      <td>6222</td>\n",
       "    </tr>\n",
       "    <tr>\n",
       "      <th>...</th>\n",
       "      <td>...</td>\n",
       "      <td>...</td>\n",
       "    </tr>\n",
       "    <tr>\n",
       "      <th>17</th>\n",
       "      <td>english rose tea set in gift box</td>\n",
       "      <td>5</td>\n",
       "    </tr>\n",
       "    <tr>\n",
       "      <th>27</th>\n",
       "      <td>light topaz teal/aqua col necklace</td>\n",
       "      <td>4</td>\n",
       "    </tr>\n",
       "    <tr>\n",
       "      <th>10</th>\n",
       "      <td>ceramic cake teapot with cherry</td>\n",
       "      <td>3</td>\n",
       "    </tr>\n",
       "    <tr>\n",
       "      <th>13</th>\n",
       "      <td>dotcomgiftshop tea towel</td>\n",
       "      <td>2</td>\n",
       "    </tr>\n",
       "    <tr>\n",
       "      <th>81</th>\n",
       "      <td>teatime round cake tins</td>\n",
       "      <td>1</td>\n",
       "    </tr>\n",
       "  </tbody>\n",
       "</table>\n",
       "<p>87 rows × 2 columns</p>\n",
       "</div>"
      ],
      "text/plain": [
       "                          product_name  quantity\n",
       "0          60 teatime fairy cake cases     27584\n",
       "2      antique silver tea glass etched     17190\n",
       "30                  moroccan tea glass      7218\n",
       "1    antique silver tea glass engraved      6941\n",
       "35                potting shed tea mug      6222\n",
       "..                                 ...       ...\n",
       "17    english rose tea set in gift box         5\n",
       "27  light topaz teal/aqua col necklace         4\n",
       "10     ceramic cake teapot with cherry         3\n",
       "13            dotcomgiftshop tea towel         2\n",
       "81             teatime round cake tins         1\n",
       "\n",
       "[87 rows x 2 columns]"
      ]
     },
     "execution_count": 41,
     "metadata": {},
     "output_type": "execute_result"
    }
   ],
   "source": [
    "# membuat index bukan dari product_name\n",
    "df_clean.loc[df_clean['product_name'].str.contains('tea')].groupby('product_name', as_index=False)['quantity'].sum().sort_values('quantity', ascending=False)"
   ]
  },
  {
   "cell_type": "code",
   "execution_count": 53,
   "id": "689e757b-1b01-419d-9c7c-874e20f4fd09",
   "metadata": {},
   "outputs": [
    {
     "data": {
      "text/html": [
       "<div>\n",
       "<style scoped>\n",
       "    .dataframe tbody tr th:only-of-type {\n",
       "        vertical-align: middle;\n",
       "    }\n",
       "\n",
       "    .dataframe tbody tr th {\n",
       "        vertical-align: top;\n",
       "    }\n",
       "\n",
       "    .dataframe thead th {\n",
       "        text-align: right;\n",
       "    }\n",
       "</style>\n",
       "<table border=\"1\" class=\"dataframe\">\n",
       "  <thead>\n",
       "    <tr style=\"text-align: right;\">\n",
       "      <th></th>\n",
       "      <th></th>\n",
       "      <th>quantity</th>\n",
       "    </tr>\n",
       "    <tr>\n",
       "      <th>product_name</th>\n",
       "      <th>order_status</th>\n",
       "      <th></th>\n",
       "    </tr>\n",
       "  </thead>\n",
       "  <tbody>\n",
       "    <tr>\n",
       "      <th>60 teatime fairy cake cases</th>\n",
       "      <th>delivered</th>\n",
       "      <td>27432</td>\n",
       "    </tr>\n",
       "    <tr>\n",
       "      <th>antique silver tea glass etched</th>\n",
       "      <th>delivered</th>\n",
       "      <td>17083</td>\n",
       "    </tr>\n",
       "    <tr>\n",
       "      <th>moroccan tea glass</th>\n",
       "      <th>delivered</th>\n",
       "      <td>7129</td>\n",
       "    </tr>\n",
       "    <tr>\n",
       "      <th>antique silver tea glass engraved</th>\n",
       "      <th>delivered</th>\n",
       "      <td>6935</td>\n",
       "    </tr>\n",
       "    <tr>\n",
       "      <th>potting shed tea mug</th>\n",
       "      <th>delivered</th>\n",
       "      <td>6113</td>\n",
       "    </tr>\n",
       "    <tr>\n",
       "      <th>...</th>\n",
       "      <th>...</th>\n",
       "      <td>...</td>\n",
       "    </tr>\n",
       "    <tr>\n",
       "      <th>tea time mug in gift box</th>\n",
       "      <th>cancelled</th>\n",
       "      <td>1</td>\n",
       "    </tr>\n",
       "    <tr>\n",
       "      <th>tea time breakfast basket</th>\n",
       "      <th>cancelled</th>\n",
       "      <td>1</td>\n",
       "    </tr>\n",
       "    <tr>\n",
       "      <th>metal sign empire tea</th>\n",
       "      <th>cancelled</th>\n",
       "      <td>1</td>\n",
       "    </tr>\n",
       "    <tr>\n",
       "      <th>white tea,coffee,sugar jars</th>\n",
       "      <th>cancelled</th>\n",
       "      <td>1</td>\n",
       "    </tr>\n",
       "    <tr>\n",
       "      <th>set 2 tea towels i love london</th>\n",
       "      <th>cancelled</th>\n",
       "      <td>1</td>\n",
       "    </tr>\n",
       "  </tbody>\n",
       "</table>\n",
       "<p>139 rows × 1 columns</p>\n",
       "</div>"
      ],
      "text/plain": [
       "                                                quantity\n",
       "product_name                      order_status          \n",
       "60 teatime fairy cake cases       delivered        27432\n",
       "antique silver tea glass etched   delivered        17083\n",
       "moroccan tea glass                delivered         7129\n",
       "antique silver tea glass engraved delivered         6935\n",
       "potting shed tea mug              delivered         6113\n",
       "...                                                  ...\n",
       "tea time mug in gift box          cancelled            1\n",
       "tea time breakfast basket         cancelled            1\n",
       "metal sign empire tea             cancelled            1\n",
       "white tea,coffee,sugar jars       cancelled            1\n",
       "set 2 tea towels i love london    cancelled            1\n",
       "\n",
       "[139 rows x 1 columns]"
      ]
     },
     "execution_count": 53,
     "metadata": {},
     "output_type": "execute_result"
    }
   ],
   "source": [
    "# agregat dengan lebih dari 1 kolom sebagai grouping\n",
    "data2 = pd.DataFrame(\n",
    "    df_clean\n",
    "    .loc[df_clean['product_name'].str.contains('tea')]\n",
    "    .groupby(['product_name','order_status'])['quantity']\n",
    "    .sum().sort_values(ascending=False)\n",
    ")\n",
    "data2"
   ]
  },
  {
   "cell_type": "markdown",
   "id": "6f5c5ca1-1e4a-44f9-94ae-3cb927872698",
   "metadata": {},
   "source": [
    "### Agregat dari beberapa kolom"
   ]
  },
  {
   "cell_type": "code",
   "execution_count": 54,
   "id": "b5b952e6-ee55-485a-b792-3cb372ad216e",
   "metadata": {},
   "outputs": [
    {
     "data": {
      "text/html": [
       "<div>\n",
       "<style scoped>\n",
       "    .dataframe tbody tr th:only-of-type {\n",
       "        vertical-align: middle;\n",
       "    }\n",
       "\n",
       "    .dataframe tbody tr th {\n",
       "        vertical-align: top;\n",
       "    }\n",
       "\n",
       "    .dataframe thead th {\n",
       "        text-align: right;\n",
       "    }\n",
       "</style>\n",
       "<table border=\"1\" class=\"dataframe\">\n",
       "  <thead>\n",
       "    <tr style=\"text-align: right;\">\n",
       "      <th></th>\n",
       "      <th>product_name</th>\n",
       "      <th>total_quantity</th>\n",
       "      <th>total_amount</th>\n",
       "    </tr>\n",
       "  </thead>\n",
       "  <tbody>\n",
       "    <tr>\n",
       "      <th>0</th>\n",
       "      <td>60 teatime fairy cake cases</td>\n",
       "      <td>27584</td>\n",
       "      <td>809.95</td>\n",
       "    </tr>\n",
       "    <tr>\n",
       "      <th>2</th>\n",
       "      <td>antique silver tea glass etched</td>\n",
       "      <td>17190</td>\n",
       "      <td>1363.38</td>\n",
       "    </tr>\n",
       "    <tr>\n",
       "      <th>30</th>\n",
       "      <td>moroccan tea glass</td>\n",
       "      <td>7218</td>\n",
       "      <td>373.86</td>\n",
       "    </tr>\n",
       "    <tr>\n",
       "      <th>1</th>\n",
       "      <td>antique silver tea glass engraved</td>\n",
       "      <td>6941</td>\n",
       "      <td>500.87</td>\n",
       "    </tr>\n",
       "    <tr>\n",
       "      <th>35</th>\n",
       "      <td>potting shed tea mug</td>\n",
       "      <td>6222</td>\n",
       "      <td>883.15</td>\n",
       "    </tr>\n",
       "    <tr>\n",
       "      <th>...</th>\n",
       "      <td>...</td>\n",
       "      <td>...</td>\n",
       "      <td>...</td>\n",
       "    </tr>\n",
       "    <tr>\n",
       "      <th>17</th>\n",
       "      <td>english rose tea set in gift box</td>\n",
       "      <td>5</td>\n",
       "      <td>13.95</td>\n",
       "    </tr>\n",
       "    <tr>\n",
       "      <th>27</th>\n",
       "      <td>light topaz teal/aqua col necklace</td>\n",
       "      <td>4</td>\n",
       "      <td>20.36</td>\n",
       "    </tr>\n",
       "    <tr>\n",
       "      <th>10</th>\n",
       "      <td>ceramic cake teapot with cherry</td>\n",
       "      <td>3</td>\n",
       "      <td>13.45</td>\n",
       "    </tr>\n",
       "    <tr>\n",
       "      <th>13</th>\n",
       "      <td>dotcomgiftshop tea towel</td>\n",
       "      <td>2</td>\n",
       "      <td>3.36</td>\n",
       "    </tr>\n",
       "    <tr>\n",
       "      <th>81</th>\n",
       "      <td>teatime round cake tins</td>\n",
       "      <td>1</td>\n",
       "      <td>9.95</td>\n",
       "    </tr>\n",
       "  </tbody>\n",
       "</table>\n",
       "<p>87 rows × 3 columns</p>\n",
       "</div>"
      ],
      "text/plain": [
       "                          product_name  total_quantity  total_amount\n",
       "0          60 teatime fairy cake cases           27584        809.95\n",
       "2      antique silver tea glass etched           17190       1363.38\n",
       "30                  moroccan tea glass            7218        373.86\n",
       "1    antique silver tea glass engraved            6941        500.87\n",
       "35                potting shed tea mug            6222        883.15\n",
       "..                                 ...             ...           ...\n",
       "17    english rose tea set in gift box               5         13.95\n",
       "27  light topaz teal/aqua col necklace               4         20.36\n",
       "10     ceramic cake teapot with cherry               3         13.45\n",
       "13            dotcomgiftshop tea towel               2          3.36\n",
       "81             teatime round cake tins               1          9.95\n",
       "\n",
       "[87 rows x 3 columns]"
      ]
     },
     "execution_count": 54,
     "metadata": {},
     "output_type": "execute_result"
    }
   ],
   "source": [
    "#agregat lebih dari 2 kolom dan group satu kolom\n",
    "data3 = pd.DataFrame (\n",
    "        df_clean\n",
    "        .loc[df_clean['product_name'].str.contains('tea')]\n",
    "        .groupby('product_name', as_index=False).agg(total_quantity=('quantity', 'sum'), total_amount=('price', 'sum'))\n",
    "        .sort_values('total_quantity', ascending=False)\n",
    ")\n",
    "data3"
   ]
  },
  {
   "cell_type": "code",
   "execution_count": 55,
   "id": "a5459d0f-468a-4cdd-955d-a3b2a1c88da3",
   "metadata": {},
   "outputs": [
    {
     "data": {
      "text/html": [
       "<div>\n",
       "<style scoped>\n",
       "    .dataframe tbody tr th:only-of-type {\n",
       "        vertical-align: middle;\n",
       "    }\n",
       "\n",
       "    .dataframe tbody tr th {\n",
       "        vertical-align: top;\n",
       "    }\n",
       "\n",
       "    .dataframe thead th {\n",
       "        text-align: right;\n",
       "    }\n",
       "</style>\n",
       "<table border=\"1\" class=\"dataframe\">\n",
       "  <thead>\n",
       "    <tr style=\"text-align: right;\">\n",
       "      <th></th>\n",
       "      <th>product_name</th>\n",
       "      <th>order_status</th>\n",
       "      <th>total_quantity</th>\n",
       "      <th>total_amount</th>\n",
       "    </tr>\n",
       "  </thead>\n",
       "  <tbody>\n",
       "    <tr>\n",
       "      <th>1</th>\n",
       "      <td>60 teatime fairy cake cases</td>\n",
       "      <td>delivered</td>\n",
       "      <td>27432</td>\n",
       "      <td>807.46</td>\n",
       "    </tr>\n",
       "    <tr>\n",
       "      <th>5</th>\n",
       "      <td>antique silver tea glass etched</td>\n",
       "      <td>delivered</td>\n",
       "      <td>17083</td>\n",
       "      <td>1339.82</td>\n",
       "    </tr>\n",
       "    <tr>\n",
       "      <th>47</th>\n",
       "      <td>moroccan tea glass</td>\n",
       "      <td>delivered</td>\n",
       "      <td>7129</td>\n",
       "      <td>364.71</td>\n",
       "    </tr>\n",
       "    <tr>\n",
       "      <th>3</th>\n",
       "      <td>antique silver tea glass engraved</td>\n",
       "      <td>delivered</td>\n",
       "      <td>6935</td>\n",
       "      <td>497.12</td>\n",
       "    </tr>\n",
       "    <tr>\n",
       "      <th>55</th>\n",
       "      <td>potting shed tea mug</td>\n",
       "      <td>delivered</td>\n",
       "      <td>6113</td>\n",
       "      <td>861.03</td>\n",
       "    </tr>\n",
       "    <tr>\n",
       "      <th>...</th>\n",
       "      <td>...</td>\n",
       "      <td>...</td>\n",
       "      <td>...</td>\n",
       "      <td>...</td>\n",
       "    </tr>\n",
       "    <tr>\n",
       "      <th>105</th>\n",
       "      <td>tea time mug in gift box</td>\n",
       "      <td>cancelled</td>\n",
       "      <td>1</td>\n",
       "      <td>2.95</td>\n",
       "    </tr>\n",
       "    <tr>\n",
       "      <th>97</th>\n",
       "      <td>tea time breakfast basket</td>\n",
       "      <td>cancelled</td>\n",
       "      <td>1</td>\n",
       "      <td>2.10</td>\n",
       "    </tr>\n",
       "    <tr>\n",
       "      <th>44</th>\n",
       "      <td>metal sign empire tea</td>\n",
       "      <td>cancelled</td>\n",
       "      <td>1</td>\n",
       "      <td>2.95</td>\n",
       "    </tr>\n",
       "    <tr>\n",
       "      <th>137</th>\n",
       "      <td>white tea,coffee,sugar jars</td>\n",
       "      <td>cancelled</td>\n",
       "      <td>1</td>\n",
       "      <td>6.35</td>\n",
       "    </tr>\n",
       "    <tr>\n",
       "      <th>68</th>\n",
       "      <td>set 2 tea towels i love london</td>\n",
       "      <td>cancelled</td>\n",
       "      <td>1</td>\n",
       "      <td>2.95</td>\n",
       "    </tr>\n",
       "  </tbody>\n",
       "</table>\n",
       "<p>139 rows × 4 columns</p>\n",
       "</div>"
      ],
      "text/plain": [
       "                          product_name order_status  total_quantity  \\\n",
       "1          60 teatime fairy cake cases    delivered           27432   \n",
       "5      antique silver tea glass etched    delivered           17083   \n",
       "47                  moroccan tea glass    delivered            7129   \n",
       "3    antique silver tea glass engraved    delivered            6935   \n",
       "55                potting shed tea mug    delivered            6113   \n",
       "..                                 ...          ...             ...   \n",
       "105           tea time mug in gift box    cancelled               1   \n",
       "97           tea time breakfast basket    cancelled               1   \n",
       "44               metal sign empire tea    cancelled               1   \n",
       "137        white tea,coffee,sugar jars    cancelled               1   \n",
       "68      set 2 tea towels i love london    cancelled               1   \n",
       "\n",
       "     total_amount  \n",
       "1          807.46  \n",
       "5         1339.82  \n",
       "47         364.71  \n",
       "3          497.12  \n",
       "55         861.03  \n",
       "..            ...  \n",
       "105          2.95  \n",
       "97           2.10  \n",
       "44           2.95  \n",
       "137          6.35  \n",
       "68           2.95  \n",
       "\n",
       "[139 rows x 4 columns]"
      ]
     },
     "execution_count": 55,
     "metadata": {},
     "output_type": "execute_result"
    }
   ],
   "source": [
    "# agregasi lebih dari satu kolom dan group lebih dari satu kolom\n",
    "data4 = pd.DataFrame(\n",
    "        df_clean\n",
    "        .loc[df_clean['product_name'].str.contains('tea')]\n",
    "        .groupby(['product_name', 'order_status'], as_index=False)\n",
    "        .agg(total_quantity=('quantity', 'sum'), total_amount=('price', 'sum'))\n",
    "        .sort_values('total_quantity', ascending=False)\n",
    ")\n",
    "data4"
   ]
  },
  {
   "cell_type": "code",
   "execution_count": 67,
   "id": "fc8c73bb-8ef8-4fe3-b1f0-d3f7d65f244f",
   "metadata": {},
   "outputs": [
    {
     "data": {
      "text/html": [
       "<div>\n",
       "<style scoped>\n",
       "    .dataframe tbody tr th:only-of-type {\n",
       "        vertical-align: middle;\n",
       "    }\n",
       "\n",
       "    .dataframe tbody tr th {\n",
       "        vertical-align: top;\n",
       "    }\n",
       "\n",
       "    .dataframe thead th {\n",
       "        text-align: right;\n",
       "    }\n",
       "</style>\n",
       "<table border=\"1\" class=\"dataframe\">\n",
       "  <thead>\n",
       "    <tr style=\"text-align: right;\">\n",
       "      <th></th>\n",
       "      <th>order_status</th>\n",
       "      <th>quantity</th>\n",
       "    </tr>\n",
       "  </thead>\n",
       "  <tbody>\n",
       "    <tr>\n",
       "      <th>1</th>\n",
       "      <td>delivered</td>\n",
       "      <td>4485005</td>\n",
       "    </tr>\n",
       "    <tr>\n",
       "      <th>0</th>\n",
       "      <td>cancelled</td>\n",
       "      <td>99638</td>\n",
       "    </tr>\n",
       "  </tbody>\n",
       "</table>\n",
       "</div>"
      ],
      "text/plain": [
       "  order_status  quantity\n",
       "1    delivered   4485005\n",
       "0    cancelled     99638"
      ]
     },
     "execution_count": 67,
     "metadata": {},
     "output_type": "execute_result"
    }
   ],
   "source": [
    "#grouping berdasarkan status order\n",
    "data5 = pd.DataFrame(\n",
    "        df_clean\n",
    "        .groupby('order_status', as_index=False)['quantity'].sum()\n",
    "        .sort_values('quantity', ascending=False)\n",
    ")\n",
    "data5"
   ]
  },
  {
   "cell_type": "code",
   "execution_count": 68,
   "id": "bf8bb4bf-b22f-4030-af0e-058443e1a4aa",
   "metadata": {},
   "outputs": [
    {
     "data": {
      "text/html": [
       "<div>\n",
       "<style scoped>\n",
       "    .dataframe tbody tr th:only-of-type {\n",
       "        vertical-align: middle;\n",
       "    }\n",
       "\n",
       "    .dataframe tbody tr th {\n",
       "        vertical-align: top;\n",
       "    }\n",
       "\n",
       "    .dataframe thead th {\n",
       "        text-align: right;\n",
       "    }\n",
       "</style>\n",
       "<table border=\"1\" class=\"dataframe\">\n",
       "  <thead>\n",
       "    <tr style=\"text-align: right;\">\n",
       "      <th></th>\n",
       "      <th>order_status</th>\n",
       "      <th>quantity</th>\n",
       "    </tr>\n",
       "  </thead>\n",
       "  <tbody>\n",
       "    <tr>\n",
       "      <th>1</th>\n",
       "      <td>delivered</td>\n",
       "      <td>164563</td>\n",
       "    </tr>\n",
       "    <tr>\n",
       "      <th>0</th>\n",
       "      <td>cancelled</td>\n",
       "      <td>2159</td>\n",
       "    </tr>\n",
       "  </tbody>\n",
       "</table>\n",
       "</div>"
      ],
      "text/plain": [
       "  order_status  quantity\n",
       "1    delivered    164563\n",
       "0    cancelled      2159"
      ]
     },
     "execution_count": 68,
     "metadata": {},
     "output_type": "execute_result"
    }
   ],
   "source": [
    "#grouping berdasarkan status order pada subset tertentu misal product tea\n",
    "data6 = pd.DataFrame(\n",
    "        df_clean\n",
    "        .loc[df_clean['product_name'].str.contains('tea')]\n",
    "        .groupby('order_status', as_index=False)['quantity']\n",
    "        .sum()\n",
    "        .sort_values('quantity', ascending=False)\n",
    ")\n",
    "data6"
   ]
  },
  {
   "cell_type": "code",
   "execution_count": 69,
   "id": "6470ac81-d50a-4d32-a792-da787f2ed5dd",
   "metadata": {},
   "outputs": [
    {
     "data": {
      "text/html": [
       "<div>\n",
       "<style scoped>\n",
       "    .dataframe tbody tr th:only-of-type {\n",
       "        vertical-align: middle;\n",
       "    }\n",
       "\n",
       "    .dataframe tbody tr th {\n",
       "        vertical-align: top;\n",
       "    }\n",
       "\n",
       "    .dataframe thead th {\n",
       "        text-align: right;\n",
       "    }\n",
       "</style>\n",
       "<table border=\"1\" class=\"dataframe\">\n",
       "  <thead>\n",
       "    <tr style=\"text-align: right;\">\n",
       "      <th></th>\n",
       "      <th>order_status</th>\n",
       "      <th>quantity</th>\n",
       "    </tr>\n",
       "  </thead>\n",
       "  <tbody>\n",
       "    <tr>\n",
       "      <th>1</th>\n",
       "      <td>delivered</td>\n",
       "      <td>21018</td>\n",
       "    </tr>\n",
       "    <tr>\n",
       "      <th>0</th>\n",
       "      <td>cancelled</td>\n",
       "      <td>232</td>\n",
       "    </tr>\n",
       "  </tbody>\n",
       "</table>\n",
       "</div>"
      ],
      "text/plain": [
       "  order_status  quantity\n",
       "1    delivered     21018\n",
       "0    cancelled       232"
      ]
     },
     "execution_count": 69,
     "metadata": {},
     "output_type": "execute_result"
    }
   ],
   "source": [
    "#grouping berdasarkan status order pada subset tertentu misal product coffee\n",
    "data6 = pd.DataFrame(\n",
    "        df_clean\n",
    "        .loc[df_clean['product_name'].str.contains('coffee')]\n",
    "        .groupby('order_status', as_index=False)['quantity']\n",
    "        .sum()\n",
    "        .sort_values('quantity', ascending=False)\n",
    ")\n",
    "data6"
   ]
  },
  {
   "cell_type": "code",
   "execution_count": 75,
   "id": "6cf80239-f724-4f2d-84f9-59d4013a0ab7",
   "metadata": {},
   "outputs": [
    {
     "data": {
      "text/html": [
       "<div>\n",
       "<style scoped>\n",
       "    .dataframe tbody tr th:only-of-type {\n",
       "        vertical-align: middle;\n",
       "    }\n",
       "\n",
       "    .dataframe tbody tr th {\n",
       "        vertical-align: top;\n",
       "    }\n",
       "\n",
       "    .dataframe thead th {\n",
       "        text-align: right;\n",
       "    }\n",
       "</style>\n",
       "<table border=\"1\" class=\"dataframe\">\n",
       "  <thead>\n",
       "    <tr style=\"text-align: right;\">\n",
       "      <th></th>\n",
       "      <th>order_status</th>\n",
       "      <th>total_quantity</th>\n",
       "      <th>total_amount</th>\n",
       "    </tr>\n",
       "  </thead>\n",
       "  <tbody>\n",
       "    <tr>\n",
       "      <th>1</th>\n",
       "      <td>delivered</td>\n",
       "      <td>164563</td>\n",
       "      <td>64083.17</td>\n",
       "    </tr>\n",
       "    <tr>\n",
       "      <th>0</th>\n",
       "      <td>cancelled</td>\n",
       "      <td>2159</td>\n",
       "      <td>1580.19</td>\n",
       "    </tr>\n",
       "  </tbody>\n",
       "</table>\n",
       "</div>"
      ],
      "text/plain": [
       "  order_status  total_quantity  total_amount\n",
       "1    delivered          164563      64083.17\n",
       "0    cancelled            2159       1580.19"
      ]
     },
     "execution_count": 75,
     "metadata": {},
     "output_type": "execute_result"
    }
   ],
   "source": [
    "#grouping berdasarkan status order pada subset tertentu misal product tea\n",
    "# beserta total amount\n",
    "data7 = pd.DataFrame(\n",
    "        df_clean\n",
    "        .loc[df_clean['product_name'].str.contains('tea')]\n",
    "        .groupby('order_status', as_index=False)\n",
    "        .agg(total_quantity=('quantity', 'sum'), total_amount=('price', 'sum'))\n",
    "        .sort_values('total_quantity', ascending=False)\n",
    ")\n",
    "data7"
   ]
  },
  {
   "cell_type": "code",
   "execution_count": null,
   "id": "3c9847ad-a348-48e0-8195-603e1b6c114b",
   "metadata": {},
   "outputs": [],
   "source": []
  }
 ],
 "metadata": {
  "kernelspec": {
   "display_name": "Python 3 (ipykernel)",
   "language": "python",
   "name": "python3"
  },
  "language_info": {
   "codemirror_mode": {
    "name": "ipython",
    "version": 3
   },
   "file_extension": ".py",
   "mimetype": "text/x-python",
   "name": "python",
   "nbconvert_exporter": "python",
   "pygments_lexer": "ipython3",
   "version": "3.12.3"
  }
 },
 "nbformat": 4,
 "nbformat_minor": 5
}
